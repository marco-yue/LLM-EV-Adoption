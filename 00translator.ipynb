{
 "cells": [
  {
   "cell_type": "code",
   "execution_count": 10,
   "id": "2299e431-f5fe-4b58-b7dd-2cdfdda12f26",
   "metadata": {},
   "outputs": [
    {
     "name": "stdout",
     "output_type": "stream",
     "text": [
      "Converted 03user_profiling.ipynb to 03user_profiling.py\n"
     ]
    }
   ],
   "source": [
    "import nbformat\n",
    "from nbconvert import PythonExporter\n",
    "\n",
    "def convert_notebook_to_py(notebook_path, output_path=None):\n",
    "    \"\"\"\n",
    "    Convert a Jupyter Notebook file to a Python (.py) script.\n",
    "    \n",
    "    Parameters:\n",
    "    notebook_path (str): The path to the Jupyter Notebook (.ipynb) file.\n",
    "    output_path (str): The desired output path for the Python script. \n",
    "                       If not provided, the script will be saved with the same name as the Notebook.\n",
    "    \"\"\"\n",
    "    if output_path is None:\n",
    "        output_path = notebook_path.rsplit('.', 1)[0] + '.py'\n",
    "    \n",
    "    # Read the notebook file\n",
    "    with open(notebook_path, 'r', encoding='utf-8') as f:\n",
    "        nb = nbformat.read(f, as_version=4)\n",
    "    \n",
    "    # Use PythonExporter to convert the Notebook to a Python script\n",
    "    exporter = PythonExporter()\n",
    "    (body, _) = exporter.from_notebook_node(nb)\n",
    "    \n",
    "    # Write the converted Python script to the output file\n",
    "    with open(output_path, 'w', encoding='utf-8') as f:\n",
    "        f.write(body)\n",
    "    \n",
    "    print(f\"Converted {notebook_path} to {output_path}\")\n",
    "\n",
    "# Example usage: convert 'target_notebook.ipynb' to 'target_notebook.py'\n",
    "convert_notebook_to_py(\"03user_profiling.ipynb\")"
   ]
  },
  {
   "cell_type": "code",
   "execution_count": null,
   "id": "6e57be9f-3866-41fe-83b8-f0cb1eda280a",
   "metadata": {},
   "outputs": [],
   "source": []
  }
 ],
 "metadata": {
  "kernelspec": {
   "display_name": "Python [conda env:base] *",
   "language": "python",
   "name": "conda-base-py"
  },
  "language_info": {
   "codemirror_mode": {
    "name": "ipython",
    "version": 3
   },
   "file_extension": ".py",
   "mimetype": "text/x-python",
   "name": "python",
   "nbconvert_exporter": "python",
   "pygments_lexer": "ipython3",
   "version": "3.12.2"
  }
 },
 "nbformat": 4,
 "nbformat_minor": 5
}
